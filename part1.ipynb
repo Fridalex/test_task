{
 "cells": [
  {
   "cell_type": "code",
   "execution_count": 303,
   "metadata": {},
   "outputs": [],
   "source": [
    "import numpy as np\n",
    "import pandas as pd \n",
    "import json\n",
    "import os\n",
    "import warnings\n",
    "warnings.filterwarnings('ignore')\n",
    "\n",
    "pd.set_option('max_columns', 300)\n",
    "pd.set_option('max_rows', 300)"
   ]
  },
  {
   "cell_type": "code",
   "execution_count": 304,
   "metadata": {},
   "outputs": [],
   "source": [
    "#reading cvs file with bankrupt\n",
    "bankrupts = pd.read_csv('part_1/flags.csv', sep=';')"
   ]
  },
  {
   "cell_type": "code",
   "execution_count": 305,
   "metadata": {},
   "outputs": [
    {
     "data": {
      "text/plain": [
       "<AxesSubplot:>"
      ]
     },
     "execution_count": 305,
     "metadata": {},
     "output_type": "execute_result"
    },
    {
     "data": {
      "image/png": "[encoded data removed]",
      "text/plain": [
       "<Figure size 432x288 with 1 Axes>"
      ]
     },
     "metadata": {
      "needs_background": "light"
     },
     "output_type": "display_data"
    }
   ],
   "source": [
    "dataset = list()\n",
    "years = [0 for i in range(15)]\n",
    "for json_path in os.listdir('part_1/fin'):\n",
    "    with open(os.path.join('part_1/fin', json_path), 'r') as f:\n",
    "        data = json.load(f)\n",
    "    dataset.append([data['id'],data['buhForms'][-1]['year']])\n",
    "df = pd.DataFrame(dataset,columns = ['id','last_year'])\n",
    "full = pd.merge(bankrupts, df, how='inner', on = ['id'])\n",
    "full['df_year'] = full['default_date'].apply(lambda x: int(x[-4:]))\n",
    "full['diference'] = full['df_year'] - full['last_year']\n",
    "full['diference'].hist()"
   ]
  },
  {
   "cell_type": "markdown",
   "metadata": {},
   "source": [
    "On this histogram, we see the difference between the last year we have information about and the year the company defaulted.<br>"
   ]
  },
  {
   "cell_type": "markdown",
   "metadata": {},
   "source": [
    "Since there was little time, I spent most of my time selecting and generating features.<br>\n",
    "To read json files and collect information, I collected unique attribute names<br>\n",
    "for all files over the last year from all companies.<br>\n",
    "Took startValue, endValue for each feature. So does the difference between them, and the ratio of startValue to endValue.<br>"
   ]
  },
  {
   "cell_type": "code",
   "execution_count": 306,
   "metadata": {},
   "outputs": [],
   "source": [
    "indexes = []\n",
    "for json_path in os.listdir('part_1/fin'):\n",
    "    with open(os.path.join('part_1/fin', json_path), 'r') as f:\n",
    "        data = json.load(f)\n",
    "    for i in range(len(data['buhForms'][-1]['form1'])):\n",
    "        indexes.append(data['buhForms'][-1]['form1'][i]['name'])\n",
    "    for i in range(len(data['buhForms'][-1]['form2'])):\n",
    "        indexes.append(data['buhForms'][-1]['form2'][i]['name'])\n",
    "indexes = sorted(list(set(indexes)))\n",
    "dictionary = {indexes[i]:4 * i for i in range(len(indexes))}"
   ]
  },
  {
   "cell_type": "code",
   "execution_count": 307,
   "metadata": {},
   "outputs": [],
   "source": [
    "years = [0 for i in range(15)]\n",
    "dataset = list()\n",
    "for json_path in os.listdir('part_1/fin'):\n",
    "    with open(os.path.join('part_1/fin', json_path), 'r') as f:\n",
    "        data = json.load(f)\n",
    "    list_index = [None for i in range(4 * len(dictionary))]\n",
    "    for i in range(len(data['buhForms'][-1]['form1'])):\n",
    "        if ('startValue'  in data['buhForms'][-1]['form1'][i]):\n",
    "            list_index[dictionary.get(data['buhForms'][-1]['form1'][i]['name'])] = data['buhForms'][-1]['form1'][i]['startValue']\n",
    "        if ('endValue' in data['buhForms'][-1]['form1'][i]):\n",
    "            list_index[dictionary.get(data['buhForms'][-1]['form1'][i]['name']) + 1] = data['buhForms'][-1]['form1'][i]['endValue']\n",
    "        if ('endValue' in data['buhForms'][-1]['form1'][i] and 'startValue'  in data['buhForms'][-1]['form1'][i]):\n",
    "            list_index[dictionary.get(data['buhForms'][-1]['form1'][i]['name']) + 2] = data['buhForms'][-1]['form1'][i]['startValue'] - data['buhForms'][-1]['form1'][i]['endValue']\n",
    "            if (data['buhForms'][-1]['form1'][i]['endValue'] != 0):\n",
    "                list_index[dictionary.get(data['buhForms'][-1]['form1'][i]['name']) + 3] = data['buhForms'][-1]['form1'][i]['startValue'] / data['buhForms'][-1]['form1'][i]['endValue']\n",
    "    for i in range(len( data['buhForms'][-1]['form2'])):\n",
    "        if ('startValue' in data['buhForms'][-1]['form2'][i]):\n",
    "            list_index[dictionary.get(data['buhForms'][-1]['form2'][i]['name'])] = data['buhForms'][-1]['form2'][i]['startValue']\n",
    "        if ('endValue' in data['buhForms'][-1]['form2'][i]):\n",
    "            list_index[dictionary.get(data['buhForms'][-1]['form2'][i]['name']) + 1] = data['buhForms'][-1]['form2'][i]['endValue']\n",
    "        if ('endValue' in data['buhForms'][-1]['form2'][i] and 'startValue' in data['buhForms'][-1]['form2'][i]):\n",
    "            list_index[dictionary.get(data['buhForms'][-1]['form2'][i]['name']) + 2] = data['buhForms'][-1]['form2'][i]['startValue'] - data['buhForms'][-1]['form2'][i]['endValue']\n",
    "            if (data['buhForms'][-1]['form2'][i]['endValue'] != 0):\n",
    "                list_index[dictionary.get(data['buhForms'][-1]['form2'][i]['name']) + 3] = data['buhForms'][-1]['form2'][i]['startValue'] / data['buhForms'][-1]['form2'][i]['endValue']\n",
    "    list_index.append(data['id'])\n",
    "    dataset.append(list_index)"
   ]
  },
  {
   "cell_type": "code",
   "execution_count": 308,
   "metadata": {},
   "outputs": [],
   "source": [
    "#Creating names for dataframe.\n",
    "column_names = [None for i in range(4 * len(dictionary))]\n",
    "for json_path in os.listdir('part_1/fin'):\n",
    "    with open(os.path.join('part_1/fin', json_path), 'r') as f:\n",
    "        data = json.load(f)\n",
    "    for i in range(len(data['buhForms'][-1]['form1'])):\n",
    "        name = data['buhForms'][-1]['form1'][i]['name']\n",
    "        column_names[dictionary.get(data['buhForms'][-1]['form1'][i]['name'])] = name + '_startValue' \n",
    "        column_names[dictionary.get(data['buhForms'][-1]['form1'][i]['name'])+1] = name + '_endValue'\n",
    "        column_names[dictionary.get(data['buhForms'][-1]['form1'][i]['name'])+2] = name + '_differnce'\n",
    "        column_names[dictionary.get(data['buhForms'][-1]['form1'][i]['name'])+3] = name + '_attitude'\n",
    "    for i in range(len( data['buhForms'][-1]['form2'])):\n",
    "        name = data['buhForms'][-1]['form2'][i]['name']\n",
    "        column_names[dictionary.get(data['buhForms'][-1]['form2'][i]['name'])] = name + '_startValue'\n",
    "        column_names[dictionary.get(data['buhForms'][-1]['form2'][i]['name'])+1] = name + '_endValue'\n",
    "        column_names[dictionary.get(data['buhForms'][-1]['form2'][i]['name'])+2] = name + '_differnce'\n",
    "        column_names[dictionary.get(data['buhForms'][-1]['form2'][i]['name'])+3] = name + '_attitude'\n",
    "column_names.append('id')"
   ]
  },
  {
   "cell_type": "code",
   "execution_count": 309,
   "metadata": {},
   "outputs": [],
   "source": [
    "#Combining csv files to create a target variable and further work on selecting and building a model.\n",
    "df = pd.DataFrame(dataset,columns = column_names)\n",
    "df = pd.merge(df,bankrupts,on = 'id', how = 'left')"
   ]
  },
  {
   "cell_type": "code",
   "execution_count": 310,
   "metadata": {},
   "outputs": [
    {
     "data": {
      "text/plain": [
       "0    3695\n",
       "1     223\n",
       "Name: target, dtype: int64"
      ]
     },
     "execution_count": 310,
     "metadata": {},
     "output_type": "execute_result"
    }
   ],
   "source": [
    "df['target']= df['default_date'].fillna(0).apply(lambda x: 1 if x else x)\n",
    "df['target'].value_counts()"
   ]
  },
  {
   "cell_type": "code",
   "execution_count": 311,
   "metadata": {},
   "outputs": [],
   "source": [
    "#Save pickle file and go to feature selection and desinging experiment.\n",
    "df.to_pickle('dataset.pkl')"
   ]
  },
  {
   "cell_type": "code",
   "execution_count": null,
   "metadata": {},
   "outputs": [],
   "source": []
  }
 ],
 "metadata": {
  "kernelspec": {
   "display_name": "Python 3",
   "language": "python",
   "name": "python3"
  },
  "language_info": {
   "codemirror_mode": {
    "name": "ipython",
    "version": 3
   },
   "file_extension": ".py",
   "mimetype": "text/x-python",
   "name": "python",
   "nbconvert_exporter": "python",
   "pygments_lexer": "ipython3",
   "version": "3.8.5"
  }
 },
 "nbformat": 4,
 "nbformat_minor": 4
}
